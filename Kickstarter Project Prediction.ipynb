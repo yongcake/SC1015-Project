{
 "cells": [
  {
   "cell_type": "markdown",
   "id": "f49b7753",
   "metadata": {},
   "source": [
    "# Data Cleaning"
   ]
  },
  {
   "cell_type": "code",
   "execution_count": 1,
   "id": "260db7e5",
   "metadata": {},
   "outputs": [],
   "source": [
    "# Libraries\n",
    "import numpy as np\n",
    "import pandas as pd\n",
    "import seaborn as sb\n",
    "import matplotlib.pyplot as plt\n",
    "from scipy import stats\n",
    "from sklearn.preprocessing import LabelEncoder"
   ]
  },
  {
   "cell_type": "code",
   "execution_count": 2,
   "id": "e5cc0fdb",
   "metadata": {
    "collapsed": true
   },
   "outputs": [
    {
     "data": {
      "text/html": [
       "<div>\n",
       "<style scoped>\n",
       "    .dataframe tbody tr th:only-of-type {\n",
       "        vertical-align: middle;\n",
       "    }\n",
       "\n",
       "    .dataframe tbody tr th {\n",
       "        vertical-align: top;\n",
       "    }\n",
       "\n",
       "    .dataframe thead th {\n",
       "        text-align: right;\n",
       "    }\n",
       "</style>\n",
       "<table border=\"1\" class=\"dataframe\">\n",
       "  <thead>\n",
       "    <tr style=\"text-align: right;\">\n",
       "      <th></th>\n",
       "      <th>ID</th>\n",
       "      <th>name</th>\n",
       "      <th>category</th>\n",
       "      <th>main_category</th>\n",
       "      <th>currency</th>\n",
       "      <th>deadline</th>\n",
       "      <th>goal</th>\n",
       "      <th>launched</th>\n",
       "      <th>pledged</th>\n",
       "      <th>state</th>\n",
       "      <th>backers</th>\n",
       "      <th>country</th>\n",
       "      <th>usd pledged</th>\n",
       "      <th>usd_pledged_real</th>\n",
       "      <th>usd_goal_real</th>\n",
       "    </tr>\n",
       "  </thead>\n",
       "  <tbody>\n",
       "    <tr>\n",
       "      <th>0</th>\n",
       "      <td>1000002330</td>\n",
       "      <td>The Songs of Adelaide &amp; Abullah</td>\n",
       "      <td>Poetry</td>\n",
       "      <td>Publishing</td>\n",
       "      <td>GBP</td>\n",
       "      <td>2015-10-09</td>\n",
       "      <td>1000.0</td>\n",
       "      <td>2015-08-11 12:12:28</td>\n",
       "      <td>0.0</td>\n",
       "      <td>failed</td>\n",
       "      <td>0</td>\n",
       "      <td>GB</td>\n",
       "      <td>0.0</td>\n",
       "      <td>0.0</td>\n",
       "      <td>1533.95</td>\n",
       "    </tr>\n",
       "    <tr>\n",
       "      <th>1</th>\n",
       "      <td>1000003930</td>\n",
       "      <td>Greeting From Earth: ZGAC Arts Capsule For ET</td>\n",
       "      <td>Narrative Film</td>\n",
       "      <td>Film &amp; Video</td>\n",
       "      <td>USD</td>\n",
       "      <td>2017-11-01</td>\n",
       "      <td>30000.0</td>\n",
       "      <td>2017-09-02 04:43:57</td>\n",
       "      <td>2421.0</td>\n",
       "      <td>failed</td>\n",
       "      <td>15</td>\n",
       "      <td>US</td>\n",
       "      <td>100.0</td>\n",
       "      <td>2421.0</td>\n",
       "      <td>30000.00</td>\n",
       "    </tr>\n",
       "    <tr>\n",
       "      <th>2</th>\n",
       "      <td>1000004038</td>\n",
       "      <td>Where is Hank?</td>\n",
       "      <td>Narrative Film</td>\n",
       "      <td>Film &amp; Video</td>\n",
       "      <td>USD</td>\n",
       "      <td>2013-02-26</td>\n",
       "      <td>45000.0</td>\n",
       "      <td>2013-01-12 00:20:50</td>\n",
       "      <td>220.0</td>\n",
       "      <td>failed</td>\n",
       "      <td>3</td>\n",
       "      <td>US</td>\n",
       "      <td>220.0</td>\n",
       "      <td>220.0</td>\n",
       "      <td>45000.00</td>\n",
       "    </tr>\n",
       "    <tr>\n",
       "      <th>3</th>\n",
       "      <td>1000007540</td>\n",
       "      <td>ToshiCapital Rekordz Needs Help to Complete Album</td>\n",
       "      <td>Music</td>\n",
       "      <td>Music</td>\n",
       "      <td>USD</td>\n",
       "      <td>2012-04-16</td>\n",
       "      <td>5000.0</td>\n",
       "      <td>2012-03-17 03:24:11</td>\n",
       "      <td>1.0</td>\n",
       "      <td>failed</td>\n",
       "      <td>1</td>\n",
       "      <td>US</td>\n",
       "      <td>1.0</td>\n",
       "      <td>1.0</td>\n",
       "      <td>5000.00</td>\n",
       "    </tr>\n",
       "    <tr>\n",
       "      <th>4</th>\n",
       "      <td>1000011046</td>\n",
       "      <td>Community Film Project: The Art of Neighborhoo...</td>\n",
       "      <td>Film &amp; Video</td>\n",
       "      <td>Film &amp; Video</td>\n",
       "      <td>USD</td>\n",
       "      <td>2015-08-29</td>\n",
       "      <td>19500.0</td>\n",
       "      <td>2015-07-04 08:35:03</td>\n",
       "      <td>1283.0</td>\n",
       "      <td>canceled</td>\n",
       "      <td>14</td>\n",
       "      <td>US</td>\n",
       "      <td>1283.0</td>\n",
       "      <td>1283.0</td>\n",
       "      <td>19500.00</td>\n",
       "    </tr>\n",
       "  </tbody>\n",
       "</table>\n",
       "</div>"
      ],
      "text/plain": [
       "           ID                                               name  \\\n",
       "0  1000002330                    The Songs of Adelaide & Abullah   \n",
       "1  1000003930      Greeting From Earth: ZGAC Arts Capsule For ET   \n",
       "2  1000004038                                     Where is Hank?   \n",
       "3  1000007540  ToshiCapital Rekordz Needs Help to Complete Album   \n",
       "4  1000011046  Community Film Project: The Art of Neighborhoo...   \n",
       "\n",
       "         category main_category currency    deadline     goal  \\\n",
       "0          Poetry    Publishing      GBP  2015-10-09   1000.0   \n",
       "1  Narrative Film  Film & Video      USD  2017-11-01  30000.0   \n",
       "2  Narrative Film  Film & Video      USD  2013-02-26  45000.0   \n",
       "3           Music         Music      USD  2012-04-16   5000.0   \n",
       "4    Film & Video  Film & Video      USD  2015-08-29  19500.0   \n",
       "\n",
       "              launched  pledged     state  backers country  usd pledged  \\\n",
       "0  2015-08-11 12:12:28      0.0    failed        0      GB          0.0   \n",
       "1  2017-09-02 04:43:57   2421.0    failed       15      US        100.0   \n",
       "2  2013-01-12 00:20:50    220.0    failed        3      US        220.0   \n",
       "3  2012-03-17 03:24:11      1.0    failed        1      US          1.0   \n",
       "4  2015-07-04 08:35:03   1283.0  canceled       14      US       1283.0   \n",
       "\n",
       "   usd_pledged_real  usd_goal_real  \n",
       "0               0.0        1533.95  \n",
       "1            2421.0       30000.00  \n",
       "2             220.0       45000.00  \n",
       "3               1.0        5000.00  \n",
       "4            1283.0       19500.00  "
      ]
     },
     "execution_count": 2,
     "metadata": {},
     "output_type": "execute_result"
    }
   ],
   "source": [
    "#import csv file\n",
    "startup_data = pd.read_csv('ks-projects-201801.csv')\n",
    "startup_data.head()"
   ]
  },
  {
   "cell_type": "code",
   "execution_count": 3,
   "id": "c732298c",
   "metadata": {
    "collapsed": true
   },
   "outputs": [
    {
     "name": "stdout",
     "output_type": "stream",
     "text": [
      "Data type :  <class 'pandas.core.frame.DataFrame'>\n",
      "Data dims :  (378661, 15)\n"
     ]
    }
   ],
   "source": [
    "print(\"Data type : \", type(startup_data))\n",
    "print(\"Data dims : \", startup_data.shape)"
   ]
  },
  {
   "cell_type": "code",
   "execution_count": 4,
   "id": "dbbafd83",
   "metadata": {
    "collapsed": true
   },
   "outputs": [
    {
     "name": "stdout",
     "output_type": "stream",
     "text": [
      "<class 'pandas.core.frame.DataFrame'>\n",
      "RangeIndex: 378661 entries, 0 to 378660\n",
      "Data columns (total 15 columns):\n",
      " #   Column            Non-Null Count   Dtype  \n",
      "---  ------            --------------   -----  \n",
      " 0   ID                378661 non-null  int64  \n",
      " 1   name              378657 non-null  object \n",
      " 2   category          378661 non-null  object \n",
      " 3   main_category     378661 non-null  object \n",
      " 4   currency          378661 non-null  object \n",
      " 5   deadline          378661 non-null  object \n",
      " 6   goal              378661 non-null  float64\n",
      " 7   launched          378661 non-null  object \n",
      " 8   pledged           378661 non-null  float64\n",
      " 9   state             378661 non-null  object \n",
      " 10  backers           378661 non-null  int64  \n",
      " 11  country           378661 non-null  object \n",
      " 12  usd pledged       374864 non-null  float64\n",
      " 13  usd_pledged_real  378661 non-null  float64\n",
      " 14  usd_goal_real     378661 non-null  float64\n",
      "dtypes: float64(5), int64(2), object(8)\n",
      "memory usage: 43.3+ MB\n"
     ]
    }
   ],
   "source": [
    "startup_data.info()"
   ]
  },
  {
   "cell_type": "code",
   "execution_count": 5,
   "id": "ebfd1f2b",
   "metadata": {},
   "outputs": [
    {
     "data": {
      "text/plain": [
       "array(['failed', 'canceled', 'successful', 'live', 'undefined',\n",
       "       'suspended'], dtype=object)"
      ]
     },
     "execution_count": 5,
     "metadata": {},
     "output_type": "execute_result"
    }
   ],
   "source": [
    "pd.unique(startup_data.state)"
   ]
  },
  {
   "cell_type": "code",
   "execution_count": 6,
   "id": "f9a507c4",
   "metadata": {
    "collapsed": true
   },
   "outputs": [
    {
     "data": {
      "text/plain": [
       "ID                     0\n",
       "name                   4\n",
       "category               0\n",
       "main_category          0\n",
       "currency               0\n",
       "deadline               0\n",
       "goal                   0\n",
       "launched               0\n",
       "pledged                0\n",
       "state                  0\n",
       "backers                0\n",
       "country                0\n",
       "usd pledged         3797\n",
       "usd_pledged_real       0\n",
       "usd_goal_real          0\n",
       "dtype: int64"
      ]
     },
     "execution_count": 6,
     "metadata": {},
     "output_type": "execute_result"
    }
   ],
   "source": [
    "startup_data.isnull().sum()"
   ]
  },
  {
   "cell_type": "code",
   "execution_count": 7,
   "id": "bd2f022a",
   "metadata": {},
   "outputs": [],
   "source": [
    "startup_data.drop(columns=['name','ID','category','usd pledged','currency','goal','pledged'], axis = 1, inplace = True)"
   ]
  },
  {
   "cell_type": "code",
   "execution_count": 8,
   "id": "177b9657",
   "metadata": {
    "collapsed": true
   },
   "outputs": [
    {
     "data": {
      "text/html": [
       "<div>\n",
       "<style scoped>\n",
       "    .dataframe tbody tr th:only-of-type {\n",
       "        vertical-align: middle;\n",
       "    }\n",
       "\n",
       "    .dataframe tbody tr th {\n",
       "        vertical-align: top;\n",
       "    }\n",
       "\n",
       "    .dataframe thead th {\n",
       "        text-align: right;\n",
       "    }\n",
       "</style>\n",
       "<table border=\"1\" class=\"dataframe\">\n",
       "  <thead>\n",
       "    <tr style=\"text-align: right;\">\n",
       "      <th></th>\n",
       "      <th>main_category</th>\n",
       "      <th>deadline</th>\n",
       "      <th>launched</th>\n",
       "      <th>state</th>\n",
       "      <th>backers</th>\n",
       "      <th>country</th>\n",
       "      <th>usd_pledged_real</th>\n",
       "      <th>usd_goal_real</th>\n",
       "    </tr>\n",
       "  </thead>\n",
       "  <tbody>\n",
       "    <tr>\n",
       "      <th>86807</th>\n",
       "      <td>Film &amp; Video</td>\n",
       "      <td>2013-08-01</td>\n",
       "      <td>2013-06-23 20:28:39</td>\n",
       "      <td>failed</td>\n",
       "      <td>112</td>\n",
       "      <td>US</td>\n",
       "      <td>40730.00</td>\n",
       "      <td>150000.00</td>\n",
       "    </tr>\n",
       "    <tr>\n",
       "      <th>256188</th>\n",
       "      <td>Design</td>\n",
       "      <td>2013-08-02</td>\n",
       "      <td>2013-07-03 21:38:27</td>\n",
       "      <td>successful</td>\n",
       "      <td>98</td>\n",
       "      <td>GB</td>\n",
       "      <td>4838.85</td>\n",
       "      <td>3030.49</td>\n",
       "    </tr>\n",
       "    <tr>\n",
       "      <th>288781</th>\n",
       "      <td>Technology</td>\n",
       "      <td>2014-11-13</td>\n",
       "      <td>2014-09-29 23:37:56</td>\n",
       "      <td>failed</td>\n",
       "      <td>0</td>\n",
       "      <td>US</td>\n",
       "      <td>0.00</td>\n",
       "      <td>15000.00</td>\n",
       "    </tr>\n",
       "    <tr>\n",
       "      <th>111629</th>\n",
       "      <td>Technology</td>\n",
       "      <td>2013-04-30</td>\n",
       "      <td>2013-04-05 15:14:52</td>\n",
       "      <td>successful</td>\n",
       "      <td>346</td>\n",
       "      <td>US</td>\n",
       "      <td>9410.50</td>\n",
       "      <td>900.00</td>\n",
       "    </tr>\n",
       "    <tr>\n",
       "      <th>44072</th>\n",
       "      <td>Music</td>\n",
       "      <td>2012-10-18</td>\n",
       "      <td>2012-09-18 05:57:01</td>\n",
       "      <td>failed</td>\n",
       "      <td>2</td>\n",
       "      <td>US</td>\n",
       "      <td>60.00</td>\n",
       "      <td>4000.00</td>\n",
       "    </tr>\n",
       "    <tr>\n",
       "      <th>8099</th>\n",
       "      <td>Dance</td>\n",
       "      <td>2010-07-03</td>\n",
       "      <td>2010-05-31 06:11:46</td>\n",
       "      <td>successful</td>\n",
       "      <td>30</td>\n",
       "      <td>US</td>\n",
       "      <td>2515.00</td>\n",
       "      <td>2000.00</td>\n",
       "    </tr>\n",
       "    <tr>\n",
       "      <th>319277</th>\n",
       "      <td>Design</td>\n",
       "      <td>2017-01-12</td>\n",
       "      <td>2016-12-13 19:37:06</td>\n",
       "      <td>successful</td>\n",
       "      <td>185</td>\n",
       "      <td>NO</td>\n",
       "      <td>64741.18</td>\n",
       "      <td>23539.38</td>\n",
       "    </tr>\n",
       "    <tr>\n",
       "      <th>295484</th>\n",
       "      <td>Film &amp; Video</td>\n",
       "      <td>2012-04-23</td>\n",
       "      <td>2012-02-23 21:27:53</td>\n",
       "      <td>failed</td>\n",
       "      <td>11</td>\n",
       "      <td>US</td>\n",
       "      <td>465.00</td>\n",
       "      <td>5000.00</td>\n",
       "    </tr>\n",
       "    <tr>\n",
       "      <th>360220</th>\n",
       "      <td>Art</td>\n",
       "      <td>2011-08-17</td>\n",
       "      <td>2011-06-18 03:00:53</td>\n",
       "      <td>successful</td>\n",
       "      <td>38</td>\n",
       "      <td>US</td>\n",
       "      <td>2585.00</td>\n",
       "      <td>2500.00</td>\n",
       "    </tr>\n",
       "    <tr>\n",
       "      <th>203535</th>\n",
       "      <td>Fashion</td>\n",
       "      <td>2012-01-08</td>\n",
       "      <td>2011-11-09 14:07:32</td>\n",
       "      <td>failed</td>\n",
       "      <td>1</td>\n",
       "      <td>US</td>\n",
       "      <td>25.00</td>\n",
       "      <td>15000.00</td>\n",
       "    </tr>\n",
       "  </tbody>\n",
       "</table>\n",
       "</div>"
      ],
      "text/plain": [
       "       main_category    deadline             launched       state  backers  \\\n",
       "86807   Film & Video  2013-08-01  2013-06-23 20:28:39      failed      112   \n",
       "256188        Design  2013-08-02  2013-07-03 21:38:27  successful       98   \n",
       "288781    Technology  2014-11-13  2014-09-29 23:37:56      failed        0   \n",
       "111629    Technology  2013-04-30  2013-04-05 15:14:52  successful      346   \n",
       "44072          Music  2012-10-18  2012-09-18 05:57:01      failed        2   \n",
       "8099           Dance  2010-07-03  2010-05-31 06:11:46  successful       30   \n",
       "319277        Design  2017-01-12  2016-12-13 19:37:06  successful      185   \n",
       "295484  Film & Video  2012-04-23  2012-02-23 21:27:53      failed       11   \n",
       "360220           Art  2011-08-17  2011-06-18 03:00:53  successful       38   \n",
       "203535       Fashion  2012-01-08  2011-11-09 14:07:32      failed        1   \n",
       "\n",
       "       country  usd_pledged_real  usd_goal_real  \n",
       "86807       US          40730.00      150000.00  \n",
       "256188      GB           4838.85        3030.49  \n",
       "288781      US              0.00       15000.00  \n",
       "111629      US           9410.50         900.00  \n",
       "44072       US             60.00        4000.00  \n",
       "8099        US           2515.00        2000.00  \n",
       "319277      NO          64741.18       23539.38  \n",
       "295484      US            465.00        5000.00  \n",
       "360220      US           2585.00        2500.00  \n",
       "203535      US             25.00       15000.00  "
      ]
     },
     "execution_count": 8,
     "metadata": {},
     "output_type": "execute_result"
    }
   ],
   "source": [
    "startup_data = startup_data[startup_data['state'].isin(['failed', 'successful'])]\n",
    "startup_data.sample(10)"
   ]
  },
  {
   "cell_type": "markdown",
   "id": "7a0d3ba8",
   "metadata": {},
   "source": [
    "1. Here, we can see the various types of status of the startups but we are concerned  only with successful and failed startups as we are predicting this category.\n",
    "2. Thus we remove all other categories such as 'canceled', 'live', 'undefined', 'suspended'  and only keep the remaining two.\n",
    "3. We examine the null values and see that columns 'name' and 'usd pledged' have null values but we do not need to correct this as these columns are unnecessary in our problem so we will ultimately drop them.\n",
    "4. We remove all unnecesary columns that are not going to help predict the success of the startup such as 'id', 'name' etc.\n"
   ]
  },
  {
   "cell_type": "code",
   "execution_count": 9,
   "id": "9188547b",
   "metadata": {
    "collapsed": true
   },
   "outputs": [
    {
     "data": {
      "text/html": [
       "<div>\n",
       "<style scoped>\n",
       "    .dataframe tbody tr th:only-of-type {\n",
       "        vertical-align: middle;\n",
       "    }\n",
       "\n",
       "    .dataframe tbody tr th {\n",
       "        vertical-align: top;\n",
       "    }\n",
       "\n",
       "    .dataframe thead th {\n",
       "        text-align: right;\n",
       "    }\n",
       "</style>\n",
       "<table border=\"1\" class=\"dataframe\">\n",
       "  <thead>\n",
       "    <tr style=\"text-align: right;\">\n",
       "      <th></th>\n",
       "      <th>main_category</th>\n",
       "      <th>deadline</th>\n",
       "      <th>launched</th>\n",
       "      <th>state</th>\n",
       "      <th>backers</th>\n",
       "      <th>country</th>\n",
       "      <th>usd_pledged_real</th>\n",
       "      <th>usd_goal_real</th>\n",
       "      <th>state_num</th>\n",
       "    </tr>\n",
       "  </thead>\n",
       "  <tbody>\n",
       "    <tr>\n",
       "      <th>0</th>\n",
       "      <td>Publishing</td>\n",
       "      <td>2015-10-09</td>\n",
       "      <td>2015-08-11 12:12:28</td>\n",
       "      <td>failed</td>\n",
       "      <td>0</td>\n",
       "      <td>GB</td>\n",
       "      <td>0.0</td>\n",
       "      <td>1533.95</td>\n",
       "      <td>0</td>\n",
       "    </tr>\n",
       "    <tr>\n",
       "      <th>1</th>\n",
       "      <td>Film &amp; Video</td>\n",
       "      <td>2017-11-01</td>\n",
       "      <td>2017-09-02 04:43:57</td>\n",
       "      <td>failed</td>\n",
       "      <td>15</td>\n",
       "      <td>US</td>\n",
       "      <td>2421.0</td>\n",
       "      <td>30000.00</td>\n",
       "      <td>0</td>\n",
       "    </tr>\n",
       "    <tr>\n",
       "      <th>2</th>\n",
       "      <td>Film &amp; Video</td>\n",
       "      <td>2013-02-26</td>\n",
       "      <td>2013-01-12 00:20:50</td>\n",
       "      <td>failed</td>\n",
       "      <td>3</td>\n",
       "      <td>US</td>\n",
       "      <td>220.0</td>\n",
       "      <td>45000.00</td>\n",
       "      <td>0</td>\n",
       "    </tr>\n",
       "    <tr>\n",
       "      <th>3</th>\n",
       "      <td>Music</td>\n",
       "      <td>2012-04-16</td>\n",
       "      <td>2012-03-17 03:24:11</td>\n",
       "      <td>failed</td>\n",
       "      <td>1</td>\n",
       "      <td>US</td>\n",
       "      <td>1.0</td>\n",
       "      <td>5000.00</td>\n",
       "      <td>0</td>\n",
       "    </tr>\n",
       "    <tr>\n",
       "      <th>5</th>\n",
       "      <td>Food</td>\n",
       "      <td>2016-04-01</td>\n",
       "      <td>2016-02-26 13:38:27</td>\n",
       "      <td>successful</td>\n",
       "      <td>224</td>\n",
       "      <td>US</td>\n",
       "      <td>52375.0</td>\n",
       "      <td>50000.00</td>\n",
       "      <td>1</td>\n",
       "    </tr>\n",
       "    <tr>\n",
       "      <th>...</th>\n",
       "      <td>...</td>\n",
       "      <td>...</td>\n",
       "      <td>...</td>\n",
       "      <td>...</td>\n",
       "      <td>...</td>\n",
       "      <td>...</td>\n",
       "      <td>...</td>\n",
       "      <td>...</td>\n",
       "      <td>...</td>\n",
       "    </tr>\n",
       "    <tr>\n",
       "      <th>378654</th>\n",
       "      <td>Food</td>\n",
       "      <td>2017-04-19</td>\n",
       "      <td>2017-03-20 22:08:22</td>\n",
       "      <td>failed</td>\n",
       "      <td>4</td>\n",
       "      <td>US</td>\n",
       "      <td>154.0</td>\n",
       "      <td>6500.00</td>\n",
       "      <td>0</td>\n",
       "    </tr>\n",
       "    <tr>\n",
       "      <th>378657</th>\n",
       "      <td>Film &amp; Video</td>\n",
       "      <td>2011-07-19</td>\n",
       "      <td>2011-06-22 03:35:14</td>\n",
       "      <td>failed</td>\n",
       "      <td>5</td>\n",
       "      <td>US</td>\n",
       "      <td>155.0</td>\n",
       "      <td>1500.00</td>\n",
       "      <td>0</td>\n",
       "    </tr>\n",
       "    <tr>\n",
       "      <th>378658</th>\n",
       "      <td>Film &amp; Video</td>\n",
       "      <td>2010-08-16</td>\n",
       "      <td>2010-07-01 19:40:30</td>\n",
       "      <td>failed</td>\n",
       "      <td>1</td>\n",
       "      <td>US</td>\n",
       "      <td>20.0</td>\n",
       "      <td>15000.00</td>\n",
       "      <td>0</td>\n",
       "    </tr>\n",
       "    <tr>\n",
       "      <th>378659</th>\n",
       "      <td>Technology</td>\n",
       "      <td>2016-02-13</td>\n",
       "      <td>2016-01-13 18:13:53</td>\n",
       "      <td>failed</td>\n",
       "      <td>6</td>\n",
       "      <td>US</td>\n",
       "      <td>200.0</td>\n",
       "      <td>15000.00</td>\n",
       "      <td>0</td>\n",
       "    </tr>\n",
       "    <tr>\n",
       "      <th>378660</th>\n",
       "      <td>Art</td>\n",
       "      <td>2011-08-16</td>\n",
       "      <td>2011-07-19 09:07:47</td>\n",
       "      <td>failed</td>\n",
       "      <td>17</td>\n",
       "      <td>US</td>\n",
       "      <td>524.0</td>\n",
       "      <td>2000.00</td>\n",
       "      <td>0</td>\n",
       "    </tr>\n",
       "  </tbody>\n",
       "</table>\n",
       "<p>331675 rows × 9 columns</p>\n",
       "</div>"
      ],
      "text/plain": [
       "       main_category    deadline             launched       state  backers  \\\n",
       "0         Publishing  2015-10-09  2015-08-11 12:12:28      failed        0   \n",
       "1       Film & Video  2017-11-01  2017-09-02 04:43:57      failed       15   \n",
       "2       Film & Video  2013-02-26  2013-01-12 00:20:50      failed        3   \n",
       "3              Music  2012-04-16  2012-03-17 03:24:11      failed        1   \n",
       "5               Food  2016-04-01  2016-02-26 13:38:27  successful      224   \n",
       "...              ...         ...                  ...         ...      ...   \n",
       "378654          Food  2017-04-19  2017-03-20 22:08:22      failed        4   \n",
       "378657  Film & Video  2011-07-19  2011-06-22 03:35:14      failed        5   \n",
       "378658  Film & Video  2010-08-16  2010-07-01 19:40:30      failed        1   \n",
       "378659    Technology  2016-02-13  2016-01-13 18:13:53      failed        6   \n",
       "378660           Art  2011-08-16  2011-07-19 09:07:47      failed       17   \n",
       "\n",
       "       country  usd_pledged_real  usd_goal_real  state_num  \n",
       "0           GB               0.0        1533.95          0  \n",
       "1           US            2421.0       30000.00          0  \n",
       "2           US             220.0       45000.00          0  \n",
       "3           US               1.0        5000.00          0  \n",
       "5           US           52375.0       50000.00          1  \n",
       "...        ...               ...            ...        ...  \n",
       "378654      US             154.0        6500.00          0  \n",
       "378657      US             155.0        1500.00          0  \n",
       "378658      US              20.0       15000.00          0  \n",
       "378659      US             200.0       15000.00          0  \n",
       "378660      US             524.0        2000.00          0  \n",
       "\n",
       "[331675 rows x 9 columns]"
      ]
     },
     "execution_count": 9,
     "metadata": {},
     "output_type": "execute_result"
    }
   ],
   "source": [
    "startup_data = startup_data.assign(state_num = (startup_data['state'] == 'successful').astype(int))\n",
    "#startup_data.drop(columns=['state'], axis = 1, inplace = True)\n",
    "startup_data"
   ]
  },
  {
   "cell_type": "code",
   "execution_count": 10,
   "id": "a784dc43",
   "metadata": {
    "collapsed": true
   },
   "outputs": [
    {
     "data": {
      "text/html": [
       "<div>\n",
       "<style scoped>\n",
       "    .dataframe tbody tr th:only-of-type {\n",
       "        vertical-align: middle;\n",
       "    }\n",
       "\n",
       "    .dataframe tbody tr th {\n",
       "        vertical-align: top;\n",
       "    }\n",
       "\n",
       "    .dataframe thead th {\n",
       "        text-align: right;\n",
       "    }\n",
       "</style>\n",
       "<table border=\"1\" class=\"dataframe\">\n",
       "  <thead>\n",
       "    <tr style=\"text-align: right;\">\n",
       "      <th></th>\n",
       "      <th>main_category</th>\n",
       "      <th>deadline</th>\n",
       "      <th>launched</th>\n",
       "      <th>state</th>\n",
       "      <th>backers</th>\n",
       "      <th>country</th>\n",
       "      <th>usd_pledged_real</th>\n",
       "      <th>usd_goal_real</th>\n",
       "      <th>state_num</th>\n",
       "      <th>encoded_country</th>\n",
       "      <th>encoded_main_category</th>\n",
       "    </tr>\n",
       "  </thead>\n",
       "  <tbody>\n",
       "    <tr>\n",
       "      <th>0</th>\n",
       "      <td>Publishing</td>\n",
       "      <td>2015-10-09</td>\n",
       "      <td>2015-08-11 12:12:28</td>\n",
       "      <td>failed</td>\n",
       "      <td>0</td>\n",
       "      <td>GB</td>\n",
       "      <td>0.0</td>\n",
       "      <td>1533.95</td>\n",
       "      <td>0</td>\n",
       "      <td>9</td>\n",
       "      <td>12</td>\n",
       "    </tr>\n",
       "    <tr>\n",
       "      <th>1</th>\n",
       "      <td>Film &amp; Video</td>\n",
       "      <td>2017-11-01</td>\n",
       "      <td>2017-09-02 04:43:57</td>\n",
       "      <td>failed</td>\n",
       "      <td>15</td>\n",
       "      <td>US</td>\n",
       "      <td>2421.0</td>\n",
       "      <td>30000.00</td>\n",
       "      <td>0</td>\n",
       "      <td>22</td>\n",
       "      <td>6</td>\n",
       "    </tr>\n",
       "    <tr>\n",
       "      <th>2</th>\n",
       "      <td>Film &amp; Video</td>\n",
       "      <td>2013-02-26</td>\n",
       "      <td>2013-01-12 00:20:50</td>\n",
       "      <td>failed</td>\n",
       "      <td>3</td>\n",
       "      <td>US</td>\n",
       "      <td>220.0</td>\n",
       "      <td>45000.00</td>\n",
       "      <td>0</td>\n",
       "      <td>22</td>\n",
       "      <td>6</td>\n",
       "    </tr>\n",
       "    <tr>\n",
       "      <th>3</th>\n",
       "      <td>Music</td>\n",
       "      <td>2012-04-16</td>\n",
       "      <td>2012-03-17 03:24:11</td>\n",
       "      <td>failed</td>\n",
       "      <td>1</td>\n",
       "      <td>US</td>\n",
       "      <td>1.0</td>\n",
       "      <td>5000.00</td>\n",
       "      <td>0</td>\n",
       "      <td>22</td>\n",
       "      <td>10</td>\n",
       "    </tr>\n",
       "    <tr>\n",
       "      <th>5</th>\n",
       "      <td>Food</td>\n",
       "      <td>2016-04-01</td>\n",
       "      <td>2016-02-26 13:38:27</td>\n",
       "      <td>successful</td>\n",
       "      <td>224</td>\n",
       "      <td>US</td>\n",
       "      <td>52375.0</td>\n",
       "      <td>50000.00</td>\n",
       "      <td>1</td>\n",
       "      <td>22</td>\n",
       "      <td>7</td>\n",
       "    </tr>\n",
       "    <tr>\n",
       "      <th>...</th>\n",
       "      <td>...</td>\n",
       "      <td>...</td>\n",
       "      <td>...</td>\n",
       "      <td>...</td>\n",
       "      <td>...</td>\n",
       "      <td>...</td>\n",
       "      <td>...</td>\n",
       "      <td>...</td>\n",
       "      <td>...</td>\n",
       "      <td>...</td>\n",
       "      <td>...</td>\n",
       "    </tr>\n",
       "    <tr>\n",
       "      <th>378654</th>\n",
       "      <td>Food</td>\n",
       "      <td>2017-04-19</td>\n",
       "      <td>2017-03-20 22:08:22</td>\n",
       "      <td>failed</td>\n",
       "      <td>4</td>\n",
       "      <td>US</td>\n",
       "      <td>154.0</td>\n",
       "      <td>6500.00</td>\n",
       "      <td>0</td>\n",
       "      <td>22</td>\n",
       "      <td>7</td>\n",
       "    </tr>\n",
       "    <tr>\n",
       "      <th>378657</th>\n",
       "      <td>Film &amp; Video</td>\n",
       "      <td>2011-07-19</td>\n",
       "      <td>2011-06-22 03:35:14</td>\n",
       "      <td>failed</td>\n",
       "      <td>5</td>\n",
       "      <td>US</td>\n",
       "      <td>155.0</td>\n",
       "      <td>1500.00</td>\n",
       "      <td>0</td>\n",
       "      <td>22</td>\n",
       "      <td>6</td>\n",
       "    </tr>\n",
       "    <tr>\n",
       "      <th>378658</th>\n",
       "      <td>Film &amp; Video</td>\n",
       "      <td>2010-08-16</td>\n",
       "      <td>2010-07-01 19:40:30</td>\n",
       "      <td>failed</td>\n",
       "      <td>1</td>\n",
       "      <td>US</td>\n",
       "      <td>20.0</td>\n",
       "      <td>15000.00</td>\n",
       "      <td>0</td>\n",
       "      <td>22</td>\n",
       "      <td>6</td>\n",
       "    </tr>\n",
       "    <tr>\n",
       "      <th>378659</th>\n",
       "      <td>Technology</td>\n",
       "      <td>2016-02-13</td>\n",
       "      <td>2016-01-13 18:13:53</td>\n",
       "      <td>failed</td>\n",
       "      <td>6</td>\n",
       "      <td>US</td>\n",
       "      <td>200.0</td>\n",
       "      <td>15000.00</td>\n",
       "      <td>0</td>\n",
       "      <td>22</td>\n",
       "      <td>13</td>\n",
       "    </tr>\n",
       "    <tr>\n",
       "      <th>378660</th>\n",
       "      <td>Art</td>\n",
       "      <td>2011-08-16</td>\n",
       "      <td>2011-07-19 09:07:47</td>\n",
       "      <td>failed</td>\n",
       "      <td>17</td>\n",
       "      <td>US</td>\n",
       "      <td>524.0</td>\n",
       "      <td>2000.00</td>\n",
       "      <td>0</td>\n",
       "      <td>22</td>\n",
       "      <td>0</td>\n",
       "    </tr>\n",
       "  </tbody>\n",
       "</table>\n",
       "<p>331675 rows × 11 columns</p>\n",
       "</div>"
      ],
      "text/plain": [
       "       main_category    deadline             launched       state  backers  \\\n",
       "0         Publishing  2015-10-09  2015-08-11 12:12:28      failed        0   \n",
       "1       Film & Video  2017-11-01  2017-09-02 04:43:57      failed       15   \n",
       "2       Film & Video  2013-02-26  2013-01-12 00:20:50      failed        3   \n",
       "3              Music  2012-04-16  2012-03-17 03:24:11      failed        1   \n",
       "5               Food  2016-04-01  2016-02-26 13:38:27  successful      224   \n",
       "...              ...         ...                  ...         ...      ...   \n",
       "378654          Food  2017-04-19  2017-03-20 22:08:22      failed        4   \n",
       "378657  Film & Video  2011-07-19  2011-06-22 03:35:14      failed        5   \n",
       "378658  Film & Video  2010-08-16  2010-07-01 19:40:30      failed        1   \n",
       "378659    Technology  2016-02-13  2016-01-13 18:13:53      failed        6   \n",
       "378660           Art  2011-08-16  2011-07-19 09:07:47      failed       17   \n",
       "\n",
       "       country  usd_pledged_real  usd_goal_real  state_num  encoded_country  \\\n",
       "0           GB               0.0        1533.95          0                9   \n",
       "1           US            2421.0       30000.00          0               22   \n",
       "2           US             220.0       45000.00          0               22   \n",
       "3           US               1.0        5000.00          0               22   \n",
       "5           US           52375.0       50000.00          1               22   \n",
       "...        ...               ...            ...        ...              ...   \n",
       "378654      US             154.0        6500.00          0               22   \n",
       "378657      US             155.0        1500.00          0               22   \n",
       "378658      US              20.0       15000.00          0               22   \n",
       "378659      US             200.0       15000.00          0               22   \n",
       "378660      US             524.0        2000.00          0               22   \n",
       "\n",
       "        encoded_main_category  \n",
       "0                          12  \n",
       "1                           6  \n",
       "2                           6  \n",
       "3                          10  \n",
       "5                           7  \n",
       "...                       ...  \n",
       "378654                      7  \n",
       "378657                      6  \n",
       "378658                      6  \n",
       "378659                     13  \n",
       "378660                      0  \n",
       "\n",
       "[331675 rows x 11 columns]"
      ]
     },
     "execution_count": 10,
     "metadata": {},
     "output_type": "execute_result"
    }
   ],
   "source": [
    "\n",
    "country_encoder = LabelEncoder()\n",
    "main_category_encoder = LabelEncoder()\n",
    "\n",
    "startup_data['encoded_country'] = country_encoder.fit_transform(startup_data['country'])\n",
    "startup_data['encoded_main_category'] = main_category_encoder.fit_transform(startup_data['main_category'])\n",
    "\n",
    "startup_data"
   ]
  },
  {
   "cell_type": "code",
   "execution_count": 11,
   "id": "c5ca919d",
   "metadata": {
    "collapsed": true
   },
   "outputs": [
    {
     "data": {
      "text/html": [
       "<div>\n",
       "<style scoped>\n",
       "    .dataframe tbody tr th:only-of-type {\n",
       "        vertical-align: middle;\n",
       "    }\n",
       "\n",
       "    .dataframe tbody tr th {\n",
       "        vertical-align: top;\n",
       "    }\n",
       "\n",
       "    .dataframe thead th {\n",
       "        text-align: right;\n",
       "    }\n",
       "</style>\n",
       "<table border=\"1\" class=\"dataframe\">\n",
       "  <thead>\n",
       "    <tr style=\"text-align: right;\">\n",
       "      <th></th>\n",
       "      <th>main_category</th>\n",
       "      <th>deadline</th>\n",
       "      <th>launched</th>\n",
       "      <th>state</th>\n",
       "      <th>backers</th>\n",
       "      <th>country</th>\n",
       "      <th>usd_pledged_real</th>\n",
       "      <th>usd_goal_real</th>\n",
       "      <th>state_num</th>\n",
       "      <th>encoded_country</th>\n",
       "      <th>encoded_main_category</th>\n",
       "    </tr>\n",
       "  </thead>\n",
       "  <tbody>\n",
       "    <tr>\n",
       "      <th>0</th>\n",
       "      <td>Publishing</td>\n",
       "      <td>2015-10-09</td>\n",
       "      <td>2015-08-11 12:12:28</td>\n",
       "      <td>failed</td>\n",
       "      <td>0</td>\n",
       "      <td>GB</td>\n",
       "      <td>0.0</td>\n",
       "      <td>1533.95</td>\n",
       "      <td>0</td>\n",
       "      <td>9</td>\n",
       "      <td>12</td>\n",
       "    </tr>\n",
       "    <tr>\n",
       "      <th>1</th>\n",
       "      <td>Film &amp; Video</td>\n",
       "      <td>2017-11-01</td>\n",
       "      <td>2017-09-02 04:43:57</td>\n",
       "      <td>failed</td>\n",
       "      <td>15</td>\n",
       "      <td>US</td>\n",
       "      <td>2421.0</td>\n",
       "      <td>30000.00</td>\n",
       "      <td>0</td>\n",
       "      <td>22</td>\n",
       "      <td>6</td>\n",
       "    </tr>\n",
       "    <tr>\n",
       "      <th>2</th>\n",
       "      <td>Film &amp; Video</td>\n",
       "      <td>2013-02-26</td>\n",
       "      <td>2013-01-12 00:20:50</td>\n",
       "      <td>failed</td>\n",
       "      <td>3</td>\n",
       "      <td>US</td>\n",
       "      <td>220.0</td>\n",
       "      <td>45000.00</td>\n",
       "      <td>0</td>\n",
       "      <td>22</td>\n",
       "      <td>6</td>\n",
       "    </tr>\n",
       "    <tr>\n",
       "      <th>3</th>\n",
       "      <td>Music</td>\n",
       "      <td>2012-04-16</td>\n",
       "      <td>2012-03-17 03:24:11</td>\n",
       "      <td>failed</td>\n",
       "      <td>1</td>\n",
       "      <td>US</td>\n",
       "      <td>1.0</td>\n",
       "      <td>5000.00</td>\n",
       "      <td>0</td>\n",
       "      <td>22</td>\n",
       "      <td>10</td>\n",
       "    </tr>\n",
       "    <tr>\n",
       "      <th>5</th>\n",
       "      <td>Food</td>\n",
       "      <td>2016-04-01</td>\n",
       "      <td>2016-02-26 13:38:27</td>\n",
       "      <td>successful</td>\n",
       "      <td>224</td>\n",
       "      <td>US</td>\n",
       "      <td>52375.0</td>\n",
       "      <td>50000.00</td>\n",
       "      <td>1</td>\n",
       "      <td>22</td>\n",
       "      <td>7</td>\n",
       "    </tr>\n",
       "    <tr>\n",
       "      <th>...</th>\n",
       "      <td>...</td>\n",
       "      <td>...</td>\n",
       "      <td>...</td>\n",
       "      <td>...</td>\n",
       "      <td>...</td>\n",
       "      <td>...</td>\n",
       "      <td>...</td>\n",
       "      <td>...</td>\n",
       "      <td>...</td>\n",
       "      <td>...</td>\n",
       "      <td>...</td>\n",
       "    </tr>\n",
       "    <tr>\n",
       "      <th>378654</th>\n",
       "      <td>Food</td>\n",
       "      <td>2017-04-19</td>\n",
       "      <td>2017-03-20 22:08:22</td>\n",
       "      <td>failed</td>\n",
       "      <td>4</td>\n",
       "      <td>US</td>\n",
       "      <td>154.0</td>\n",
       "      <td>6500.00</td>\n",
       "      <td>0</td>\n",
       "      <td>22</td>\n",
       "      <td>7</td>\n",
       "    </tr>\n",
       "    <tr>\n",
       "      <th>378657</th>\n",
       "      <td>Film &amp; Video</td>\n",
       "      <td>2011-07-19</td>\n",
       "      <td>2011-06-22 03:35:14</td>\n",
       "      <td>failed</td>\n",
       "      <td>5</td>\n",
       "      <td>US</td>\n",
       "      <td>155.0</td>\n",
       "      <td>1500.00</td>\n",
       "      <td>0</td>\n",
       "      <td>22</td>\n",
       "      <td>6</td>\n",
       "    </tr>\n",
       "    <tr>\n",
       "      <th>378658</th>\n",
       "      <td>Film &amp; Video</td>\n",
       "      <td>2010-08-16</td>\n",
       "      <td>2010-07-01 19:40:30</td>\n",
       "      <td>failed</td>\n",
       "      <td>1</td>\n",
       "      <td>US</td>\n",
       "      <td>20.0</td>\n",
       "      <td>15000.00</td>\n",
       "      <td>0</td>\n",
       "      <td>22</td>\n",
       "      <td>6</td>\n",
       "    </tr>\n",
       "    <tr>\n",
       "      <th>378659</th>\n",
       "      <td>Technology</td>\n",
       "      <td>2016-02-13</td>\n",
       "      <td>2016-01-13 18:13:53</td>\n",
       "      <td>failed</td>\n",
       "      <td>6</td>\n",
       "      <td>US</td>\n",
       "      <td>200.0</td>\n",
       "      <td>15000.00</td>\n",
       "      <td>0</td>\n",
       "      <td>22</td>\n",
       "      <td>13</td>\n",
       "    </tr>\n",
       "    <tr>\n",
       "      <th>378660</th>\n",
       "      <td>Art</td>\n",
       "      <td>2011-08-16</td>\n",
       "      <td>2011-07-19 09:07:47</td>\n",
       "      <td>failed</td>\n",
       "      <td>17</td>\n",
       "      <td>US</td>\n",
       "      <td>524.0</td>\n",
       "      <td>2000.00</td>\n",
       "      <td>0</td>\n",
       "      <td>22</td>\n",
       "      <td>0</td>\n",
       "    </tr>\n",
       "  </tbody>\n",
       "</table>\n",
       "<p>331675 rows × 11 columns</p>\n",
       "</div>"
      ],
      "text/plain": [
       "       main_category   deadline            launched       state  backers  \\\n",
       "0         Publishing 2015-10-09 2015-08-11 12:12:28      failed        0   \n",
       "1       Film & Video 2017-11-01 2017-09-02 04:43:57      failed       15   \n",
       "2       Film & Video 2013-02-26 2013-01-12 00:20:50      failed        3   \n",
       "3              Music 2012-04-16 2012-03-17 03:24:11      failed        1   \n",
       "5               Food 2016-04-01 2016-02-26 13:38:27  successful      224   \n",
       "...              ...        ...                 ...         ...      ...   \n",
       "378654          Food 2017-04-19 2017-03-20 22:08:22      failed        4   \n",
       "378657  Film & Video 2011-07-19 2011-06-22 03:35:14      failed        5   \n",
       "378658  Film & Video 2010-08-16 2010-07-01 19:40:30      failed        1   \n",
       "378659    Technology 2016-02-13 2016-01-13 18:13:53      failed        6   \n",
       "378660           Art 2011-08-16 2011-07-19 09:07:47      failed       17   \n",
       "\n",
       "       country  usd_pledged_real  usd_goal_real  state_num  encoded_country  \\\n",
       "0           GB               0.0        1533.95          0                9   \n",
       "1           US            2421.0       30000.00          0               22   \n",
       "2           US             220.0       45000.00          0               22   \n",
       "3           US               1.0        5000.00          0               22   \n",
       "5           US           52375.0       50000.00          1               22   \n",
       "...        ...               ...            ...        ...              ...   \n",
       "378654      US             154.0        6500.00          0               22   \n",
       "378657      US             155.0        1500.00          0               22   \n",
       "378658      US              20.0       15000.00          0               22   \n",
       "378659      US             200.0       15000.00          0               22   \n",
       "378660      US             524.0        2000.00          0               22   \n",
       "\n",
       "        encoded_main_category  \n",
       "0                          12  \n",
       "1                           6  \n",
       "2                           6  \n",
       "3                          10  \n",
       "5                           7  \n",
       "...                       ...  \n",
       "378654                      7  \n",
       "378657                      6  \n",
       "378658                      6  \n",
       "378659                     13  \n",
       "378660                      0  \n",
       "\n",
       "[331675 rows x 11 columns]"
      ]
     },
     "execution_count": 11,
     "metadata": {},
     "output_type": "execute_result"
    }
   ],
   "source": [
    "startup_data.deadline = pd.to_datetime(startup_data.deadline)\n",
    "startup_data.launched = pd.to_datetime(startup_data.launched)\n",
    "startup_data"
   ]
  },
  {
   "cell_type": "code",
   "execution_count": 12,
   "id": "70e9ba1d",
   "metadata": {
    "collapsed": true
   },
   "outputs": [
    {
     "data": {
      "text/html": [
       "<div>\n",
       "<style scoped>\n",
       "    .dataframe tbody tr th:only-of-type {\n",
       "        vertical-align: middle;\n",
       "    }\n",
       "\n",
       "    .dataframe tbody tr th {\n",
       "        vertical-align: top;\n",
       "    }\n",
       "\n",
       "    .dataframe thead th {\n",
       "        text-align: right;\n",
       "    }\n",
       "</style>\n",
       "<table border=\"1\" class=\"dataframe\">\n",
       "  <thead>\n",
       "    <tr style=\"text-align: right;\">\n",
       "      <th></th>\n",
       "      <th>main_category</th>\n",
       "      <th>state</th>\n",
       "      <th>backers</th>\n",
       "      <th>country</th>\n",
       "      <th>usd_pledged_real</th>\n",
       "      <th>usd_goal_real</th>\n",
       "      <th>state_num</th>\n",
       "      <th>encoded_country</th>\n",
       "      <th>encoded_main_category</th>\n",
       "      <th>Duration_of_campaign(days)</th>\n",
       "      <th>Deadline(y)</th>\n",
       "      <th>Launched(y)</th>\n",
       "      <th>Launched(m)</th>\n",
       "      <th>Deadline(m)</th>\n",
       "    </tr>\n",
       "  </thead>\n",
       "  <tbody>\n",
       "    <tr>\n",
       "      <th>0</th>\n",
       "      <td>Publishing</td>\n",
       "      <td>failed</td>\n",
       "      <td>0</td>\n",
       "      <td>GB</td>\n",
       "      <td>0.0</td>\n",
       "      <td>1533.95</td>\n",
       "      <td>0</td>\n",
       "      <td>9</td>\n",
       "      <td>12</td>\n",
       "      <td>58</td>\n",
       "      <td>2015</td>\n",
       "      <td>2015</td>\n",
       "      <td>8</td>\n",
       "      <td>10</td>\n",
       "    </tr>\n",
       "    <tr>\n",
       "      <th>1</th>\n",
       "      <td>Film &amp; Video</td>\n",
       "      <td>failed</td>\n",
       "      <td>15</td>\n",
       "      <td>US</td>\n",
       "      <td>2421.0</td>\n",
       "      <td>30000.00</td>\n",
       "      <td>0</td>\n",
       "      <td>22</td>\n",
       "      <td>6</td>\n",
       "      <td>59</td>\n",
       "      <td>2017</td>\n",
       "      <td>2017</td>\n",
       "      <td>9</td>\n",
       "      <td>11</td>\n",
       "    </tr>\n",
       "    <tr>\n",
       "      <th>2</th>\n",
       "      <td>Film &amp; Video</td>\n",
       "      <td>failed</td>\n",
       "      <td>3</td>\n",
       "      <td>US</td>\n",
       "      <td>220.0</td>\n",
       "      <td>45000.00</td>\n",
       "      <td>0</td>\n",
       "      <td>22</td>\n",
       "      <td>6</td>\n",
       "      <td>44</td>\n",
       "      <td>2013</td>\n",
       "      <td>2013</td>\n",
       "      <td>1</td>\n",
       "      <td>2</td>\n",
       "    </tr>\n",
       "    <tr>\n",
       "      <th>3</th>\n",
       "      <td>Music</td>\n",
       "      <td>failed</td>\n",
       "      <td>1</td>\n",
       "      <td>US</td>\n",
       "      <td>1.0</td>\n",
       "      <td>5000.00</td>\n",
       "      <td>0</td>\n",
       "      <td>22</td>\n",
       "      <td>10</td>\n",
       "      <td>29</td>\n",
       "      <td>2012</td>\n",
       "      <td>2012</td>\n",
       "      <td>3</td>\n",
       "      <td>4</td>\n",
       "    </tr>\n",
       "    <tr>\n",
       "      <th>5</th>\n",
       "      <td>Food</td>\n",
       "      <td>successful</td>\n",
       "      <td>224</td>\n",
       "      <td>US</td>\n",
       "      <td>52375.0</td>\n",
       "      <td>50000.00</td>\n",
       "      <td>1</td>\n",
       "      <td>22</td>\n",
       "      <td>7</td>\n",
       "      <td>34</td>\n",
       "      <td>2016</td>\n",
       "      <td>2016</td>\n",
       "      <td>2</td>\n",
       "      <td>4</td>\n",
       "    </tr>\n",
       "    <tr>\n",
       "      <th>...</th>\n",
       "      <td>...</td>\n",
       "      <td>...</td>\n",
       "      <td>...</td>\n",
       "      <td>...</td>\n",
       "      <td>...</td>\n",
       "      <td>...</td>\n",
       "      <td>...</td>\n",
       "      <td>...</td>\n",
       "      <td>...</td>\n",
       "      <td>...</td>\n",
       "      <td>...</td>\n",
       "      <td>...</td>\n",
       "      <td>...</td>\n",
       "      <td>...</td>\n",
       "    </tr>\n",
       "    <tr>\n",
       "      <th>378654</th>\n",
       "      <td>Food</td>\n",
       "      <td>failed</td>\n",
       "      <td>4</td>\n",
       "      <td>US</td>\n",
       "      <td>154.0</td>\n",
       "      <td>6500.00</td>\n",
       "      <td>0</td>\n",
       "      <td>22</td>\n",
       "      <td>7</td>\n",
       "      <td>29</td>\n",
       "      <td>2017</td>\n",
       "      <td>2017</td>\n",
       "      <td>3</td>\n",
       "      <td>4</td>\n",
       "    </tr>\n",
       "    <tr>\n",
       "      <th>378657</th>\n",
       "      <td>Film &amp; Video</td>\n",
       "      <td>failed</td>\n",
       "      <td>5</td>\n",
       "      <td>US</td>\n",
       "      <td>155.0</td>\n",
       "      <td>1500.00</td>\n",
       "      <td>0</td>\n",
       "      <td>22</td>\n",
       "      <td>6</td>\n",
       "      <td>26</td>\n",
       "      <td>2011</td>\n",
       "      <td>2011</td>\n",
       "      <td>6</td>\n",
       "      <td>7</td>\n",
       "    </tr>\n",
       "    <tr>\n",
       "      <th>378658</th>\n",
       "      <td>Film &amp; Video</td>\n",
       "      <td>failed</td>\n",
       "      <td>1</td>\n",
       "      <td>US</td>\n",
       "      <td>20.0</td>\n",
       "      <td>15000.00</td>\n",
       "      <td>0</td>\n",
       "      <td>22</td>\n",
       "      <td>6</td>\n",
       "      <td>45</td>\n",
       "      <td>2010</td>\n",
       "      <td>2010</td>\n",
       "      <td>7</td>\n",
       "      <td>8</td>\n",
       "    </tr>\n",
       "    <tr>\n",
       "      <th>378659</th>\n",
       "      <td>Technology</td>\n",
       "      <td>failed</td>\n",
       "      <td>6</td>\n",
       "      <td>US</td>\n",
       "      <td>200.0</td>\n",
       "      <td>15000.00</td>\n",
       "      <td>0</td>\n",
       "      <td>22</td>\n",
       "      <td>13</td>\n",
       "      <td>30</td>\n",
       "      <td>2016</td>\n",
       "      <td>2016</td>\n",
       "      <td>1</td>\n",
       "      <td>2</td>\n",
       "    </tr>\n",
       "    <tr>\n",
       "      <th>378660</th>\n",
       "      <td>Art</td>\n",
       "      <td>failed</td>\n",
       "      <td>17</td>\n",
       "      <td>US</td>\n",
       "      <td>524.0</td>\n",
       "      <td>2000.00</td>\n",
       "      <td>0</td>\n",
       "      <td>22</td>\n",
       "      <td>0</td>\n",
       "      <td>27</td>\n",
       "      <td>2011</td>\n",
       "      <td>2011</td>\n",
       "      <td>7</td>\n",
       "      <td>8</td>\n",
       "    </tr>\n",
       "  </tbody>\n",
       "</table>\n",
       "<p>331675 rows × 14 columns</p>\n",
       "</div>"
      ],
      "text/plain": [
       "       main_category       state  backers country  usd_pledged_real  \\\n",
       "0         Publishing      failed        0      GB               0.0   \n",
       "1       Film & Video      failed       15      US            2421.0   \n",
       "2       Film & Video      failed        3      US             220.0   \n",
       "3              Music      failed        1      US               1.0   \n",
       "5               Food  successful      224      US           52375.0   \n",
       "...              ...         ...      ...     ...               ...   \n",
       "378654          Food      failed        4      US             154.0   \n",
       "378657  Film & Video      failed        5      US             155.0   \n",
       "378658  Film & Video      failed        1      US              20.0   \n",
       "378659    Technology      failed        6      US             200.0   \n",
       "378660           Art      failed       17      US             524.0   \n",
       "\n",
       "        usd_goal_real  state_num  encoded_country  encoded_main_category  \\\n",
       "0             1533.95          0                9                     12   \n",
       "1            30000.00          0               22                      6   \n",
       "2            45000.00          0               22                      6   \n",
       "3             5000.00          0               22                     10   \n",
       "5            50000.00          1               22                      7   \n",
       "...               ...        ...              ...                    ...   \n",
       "378654        6500.00          0               22                      7   \n",
       "378657        1500.00          0               22                      6   \n",
       "378658       15000.00          0               22                      6   \n",
       "378659       15000.00          0               22                     13   \n",
       "378660        2000.00          0               22                      0   \n",
       "\n",
       "        Duration_of_campaign(days)  Deadline(y)  Launched(y)  Launched(m)  \\\n",
       "0                               58         2015         2015            8   \n",
       "1                               59         2017         2017            9   \n",
       "2                               44         2013         2013            1   \n",
       "3                               29         2012         2012            3   \n",
       "5                               34         2016         2016            2   \n",
       "...                            ...          ...          ...          ...   \n",
       "378654                          29         2017         2017            3   \n",
       "378657                          26         2011         2011            6   \n",
       "378658                          45         2010         2010            7   \n",
       "378659                          30         2016         2016            1   \n",
       "378660                          27         2011         2011            7   \n",
       "\n",
       "        Deadline(m)  \n",
       "0                10  \n",
       "1                11  \n",
       "2                 2  \n",
       "3                 4  \n",
       "5                 4  \n",
       "...             ...  \n",
       "378654            4  \n",
       "378657            7  \n",
       "378658            8  \n",
       "378659            2  \n",
       "378660            8  \n",
       "\n",
       "[331675 rows x 14 columns]"
      ]
     },
     "execution_count": 12,
     "metadata": {},
     "output_type": "execute_result"
    }
   ],
   "source": [
    "startup_data['Duration_of_campaign(days)'] = (startup_data['deadline'] - startup_data.launched).dt.days \n",
    "\n",
    "startup_data['Deadline(y)']=pd.to_datetime(startup_data.deadline).dt.year \n",
    "startup_data['Launched(y)']=pd.to_datetime(startup_data.launched).dt.year \n",
    "\n",
    "startup_data['Launched(m)']=pd.to_datetime(startup_data.launched).dt.month\n",
    "startup_data['Deadline(m)']=pd.to_datetime(startup_data.deadline).dt.month \n",
    "startup_data.drop(columns=['deadline','launched'], axis = 1, inplace = True)\n",
    "startup_data"
   ]
  },
  {
   "cell_type": "markdown",
   "id": "5c2f0172",
   "metadata": {},
   "source": [
    "1. As 'state' is a categorical variable, we need to convert this into numerical by assigning 'successful' as 1 and 'failed' as 0 in a new column named 'state_num'. We then drop the original state column.\n",
    "2. We then use LabelEncoder function from scikit-learn to encode categorical columns in the DataFrame startup_data. Then, it initializes LabelEncoder objects for each categorical column and fits them to the respective columns. After fitting, it transforms the columns into encoded numerical values. Finally, it adds new columns to the DataFrame (encoded_country and encoded_main_category) to store the encoded data, leaving the original columns (country and main_category) intact.\n",
    "3. Then we convert the deadline and launched columns in the startup_data DataFrame to datetime objects, enabling easier manipulation and analysis of date and time data using to_datetime functions\n",
    "4. We then calculate the duration of the campaign by subtracting the deadline and launched dates for easy manipulations and analysis.\n",
    "5. We also convert the datetime variables into seperate variables of Deadline(y),Launched(y),Launched(m),Deadline(m) which show the respective years and months of the data, and then we drop the original deadline and launched columns.\n",
    "\n",
    "\n",
    "\n",
    "\n"
   ]
  },
  {
   "cell_type": "markdown",
   "id": "977eb190",
   "metadata": {},
   "source": [
    "# EDA"
   ]
  },
  {
   "cell_type": "code",
   "execution_count": 92,
   "id": "a784949f",
   "metadata": {},
   "outputs": [
    {
     "data": {
      "image/png": "[encoded data removed]",
      "text/plain": [
       "<Figure size 1000x600 with 1 Axes>"
      ]
     },
     "metadata": {},
     "output_type": "display_data"
    }
   ],
   "source": [
    "state_counts = startup_data['state'].value_counts()\n",
    "\n",
    "plt.figure(figsize=(10, 6))\n",
    "sns.barplot(x=state_counts.index, y=state_counts.values, palette='viridis')\n",
    "plt.title('Distribution of Project States')\n",
    "plt.xlabel('State')\n",
    "plt.ylabel('Frequency')\n",
    "plt.xticks(rotation=45)  # Rotate labels to make them readable\n",
    "plt.show()"
   ]
  },
  {
   "cell_type": "markdown",
   "id": "f69f9c7d",
   "metadata": {},
   "source": [
    "# Basic Exploratory Data Analysis"
   ]
  },
  {
   "cell_type": "markdown",
   "id": "0fe2ec5f",
   "metadata": {},
   "source": [
    "We came up with some hypotheses regarding some factors that might affect whether a kickstarter project will be successful. We will explore the statistics regarding these factors to test our hypothesis\n",
    "\n",
    "Fixed Factors: Factors that are determined from the beginning\n",
    "1) The lower the goal amount, the easier it is to acheive it and be successful.\n",
    "2) The longer the 'fundraising' duration, the more likely it is to succeed.\n",
    "3) Certain categories are more likely to succeed than others.\n",
    "4) Certain countries might affect success of project.\n",
    "\n",
    "Variable Factors: Factors that you will only find out at the end of the campaign\n",
    "1) Backers\n",
    "2) Real Pledged Amount\n",
    "\n",
    "When we initially plotted a box plot for state vs numerical values, we realise there were a lot of outliers. So we removed the outliers for each factor.\n",
    "\n",
    "We do this by finding absolute z-score which indicates the standard deviation of each data from the mean and then filtering data with more than z-score of 3 which are considered outliers."
   ]
  },
  {
   "cell_type": "code",
   "execution_count": 13,
   "id": "78cbec6a",
   "metadata": {},
   "outputs": [
    {
     "name": "stdout",
     "output_type": "stream",
     "text": [
      "<class 'pandas.core.frame.DataFrame'>\n",
      "Int64Index: 331675 entries, 0 to 378660\n",
      "Data columns (total 14 columns):\n",
      " #   Column                      Non-Null Count   Dtype  \n",
      "---  ------                      --------------   -----  \n",
      " 0   main_category               331675 non-null  object \n",
      " 1   state                       331675 non-null  object \n",
      " 2   backers                     331675 non-null  int64  \n",
      " 3   country                     331675 non-null  object \n",
      " 4   usd_pledged_real            331675 non-null  float64\n",
      " 5   usd_goal_real               331675 non-null  float64\n",
      " 6   state_num                   331675 non-null  int32  \n",
      " 7   encoded_country             331675 non-null  int32  \n",
      " 8   encoded_main_category       331675 non-null  int32  \n",
      " 9   Duration_of_campaign(days)  331675 non-null  int64  \n",
      " 10  Deadline(y)                 331675 non-null  int64  \n",
      " 11  Launched(y)                 331675 non-null  int64  \n",
      " 12  Launched(m)                 331675 non-null  int64  \n",
      " 13  Deadline(m)                 331675 non-null  int64  \n",
      "dtypes: float64(2), int32(3), int64(6), object(3)\n",
      "memory usage: 34.2+ MB\n"
     ]
    }
   ],
   "source": [
    "startup_data.info()"
   ]
  },
  {
   "cell_type": "markdown",
   "id": "e83a835f",
   "metadata": {},
   "source": [
    "# Data Analysis 1: Goal Amount(Numerical)"
   ]
  },
  {
   "cell_type": "markdown",
   "id": "fc106e8d",
   "metadata": {},
   "source": [
    "We cloned the data to focus on hypothesis 1, goal amount vs state"
   ]
  },
  {
   "cell_type": "code",
   "execution_count": 14,
   "id": "f90f9ec1",
   "metadata": {},
   "outputs": [],
   "source": [
    "goal_amount = startup_data"
   ]
  },
  {
   "cell_type": "code",
   "execution_count": 15,
   "id": "3106b475",
   "metadata": {},
   "outputs": [],
   "source": [
    "#Removing Outliers\n",
    "z_goal = np.abs(stats.zscore(goal_amount['usd_goal_real']))\n",
    "threshold = 3\n",
    "outliers_goal = goal_amount[z_goal > threshold]\n",
    "goal_amount = goal_amount.drop(outliers_goal.index)"
   ]
  },
  {
   "cell_type": "code",
   "execution_count": 16,
   "id": "fe9d853a",
   "metadata": {},
   "outputs": [
    {
     "data": {
      "text/plain": [
       "<Axes: xlabel='usd_goal_real', ylabel='state'>"
      ]
     },
     "execution_count": 16,
     "metadata": {},
     "output_type": "execute_result"
    },
    {
     "data": {
      "image/png": "[encoded data removed]",
      "text/plain": [
       "<Figure size 640x480 with 1 Axes>"
      ]
     },
     "metadata": {},
     "output_type": "display_data"
    }
   ],
   "source": [
    "#In the following code, we plottted the box plot for goal amount vs state\n",
    "sb.boxplot(data=goal_amount, x=\"usd_goal_real\", y=\"state\", showfliers = False)"
   ]
  },
  {
   "cell_type": "code",
   "execution_count": 53,
   "id": "376e669b",
   "metadata": {},
   "outputs": [
    {
     "name": "stdout",
     "output_type": "stream",
     "text": [
      "Mean Goal Amounts:\n",
      "state\n",
      "failed        30235.153082\n",
      "successful     9532.853357\n",
      "Name: usd_goal_real, dtype: float64\n",
      "\n",
      "Median Goal Amounts:\n",
      "state\n",
      "failed        7500.00\n",
      "successful    3837.74\n",
      "Name: usd_goal_real, dtype: float64\n"
     ]
    }
   ],
   "source": [
    "print(\"Mean Goal Amounts:\")\n",
    "print(goal_amount.groupby('state')['usd_goal_real'].mean())\n",
    "\n",
    "print(\"\\nMedian Goal Amounts:\")\n",
    "print(goal_amount.groupby('state')['usd_goal_real'].median())\n"
   ]
  },
  {
   "cell_type": "markdown",
   "id": "f5bbaff1",
   "metadata": {},
   "source": [
    "Successful projects tend to have a significantly lower goal amounts on average compared to failed projects. The median values (less affected by outliers) highlights this point, showing that a typical successful project has a goal of about half or less than half of a failed project. <br>\n",
    "Lets further examine the relationship"
   ]
  },
  {
   "cell_type": "code",
   "execution_count": 55,
   "id": "9cc2511b",
   "metadata": {},
   "outputs": [
    {
     "data": {
      "image/png": "[encoded data removed]",
      "text/plain": [
       "<Figure size 640x480 with 1 Axes>"
      ]
     },
     "metadata": {},
     "output_type": "display_data"
    }
   ],
   "source": [
    "goal_amount['goal_range'] = pd.qcut(goal_amount['usd_goal_real'], 4, labels=['Low', 'Medium', 'High', 'Very High'])\n",
    "\n",
    "sb.countplot(data=goal_amount, x='goal_range', hue='state')\n",
    "plt.xlabel('Goal Amount Range')\n",
    "plt.ylabel('Number of Projects')\n",
    "plt.title('Project Outcomes by Goal Amount Range')\n",
    "plt.show()\n"
   ]
  },
  {
   "cell_type": "markdown",
   "id": "758909da",
   "metadata": {},
   "source": [
    "There is a certain relationship where there is a higher number of failure when the goal amount is higher, and there is a higher amount of success when the goal amount is lower. <br>\n",
    "Lets take a closer look at the success rate of the project by their goal amount range"
   ]
  },
  {
   "cell_type": "code",
   "execution_count": 56,
   "id": "d4395676",
   "metadata": {},
   "outputs": [
    {
     "data": {
      "image/png": "[encoded data removed]",
      "text/plain": [
       "<Figure size 640x480 with 1 Axes>"
      ]
     },
     "metadata": {},
     "output_type": "display_data"
    }
   ],
   "source": [
    "# Calculate success rate\n",
    "success_rate = goal_amount.pivot_table(index='goal_range', columns='state', aggfunc='size', fill_value=0)\n",
    "success_rate['success_rate'] = success_rate['successful'] / (success_rate['successful'] + success_rate['failed'])\n",
    "\n",
    "# Plot\n",
    "success_rate['success_rate'].plot(kind='bar')\n",
    "plt.xlabel('Goal Amount Range')\n",
    "plt.ylabel('Success Rate')\n",
    "plt.title('Success Rate by Goal Amount Range')\n",
    "plt.show()\n"
   ]
  },
  {
   "cell_type": "markdown",
   "id": "59985a2b",
   "metadata": {},
   "source": [
    "From evidence, we could possibly conclude that the success of a kickstarter project could highly depend on the goal amonut, where if the goal is lower, the success rate tends to be higher."
   ]
  },
  {
   "cell_type": "markdown",
   "id": "5bc3c8e6",
   "metadata": {},
   "source": [
    "# Data Analysis 2: Duration(Numerical)"
   ]
  },
  {
   "cell_type": "markdown",
   "id": "a5529de9",
   "metadata": {},
   "source": [
    "We cloned the data to focus on hypothesis 2, duration vs state"
   ]
  },
  {
   "cell_type": "code",
   "execution_count": 17,
   "id": "f91ee419",
   "metadata": {},
   "outputs": [],
   "source": [
    "duration = startup_data"
   ]
  },
  {
   "cell_type": "code",
   "execution_count": 18,
   "id": "6fa604e5",
   "metadata": {},
   "outputs": [],
   "source": [
    "#Removing Outliers\n",
    "z_duration = np.abs(stats.zscore(duration['Duration_of_campaign(days)']))\n",
    "threshold = 3\n",
    "outliers_duration = duration[z_duration > threshold]\n",
    "duration = duration.drop(outliers_duration.index)"
   ]
  },
  {
   "cell_type": "code",
   "execution_count": 19,
   "id": "a8a0d672",
   "metadata": {},
   "outputs": [
    {
     "data": {
      "text/plain": [
       "<Axes: xlabel='Duration_of_campaign(days)', ylabel='state'>"
      ]
     },
     "execution_count": 19,
     "metadata": {},
     "output_type": "execute_result"
    },
    {
     "data": {
      "image/png": "[encoded data removed]",
      "text/plain": [
       "<Figure size 640x480 with 1 Axes>"
      ]
     },
     "metadata": {},
     "output_type": "display_data"
    }
   ],
   "source": [
    "#In the following code, we plottted the box plot for duration vs state\n",
    "sb.boxplot(data=duration, x=\"Duration_of_campaign(days)\", y=\"state\", showfliers = True)"
   ]
  },
  {
   "cell_type": "code",
   "execution_count": 71,
   "id": "df40cc40",
   "metadata": {},
   "outputs": [
    {
     "name": "stdout",
     "output_type": "stream",
     "text": [
      "Mean Goal Amounts:\n",
      "state\n",
      "failed        33.641704\n",
      "successful    30.717900\n",
      "Name: Duration_of_campaign(days), dtype: float64\n",
      "\n",
      "Median Goal Amounts:\n",
      "state\n",
      "failed        29.0\n",
      "successful    29.0\n",
      "Name: Duration_of_campaign(days), dtype: float64\n"
     ]
    }
   ],
   "source": [
    "print(\"Mean Goal Amounts:\")\n",
    "print(duration.groupby('state')['Duration_of_campaign(days)'].mean())\n",
    "\n",
    "print(\"\\nMedian Goal Amounts:\")\n",
    "print(duration.groupby('state')['Duration_of_campaign(days)'].median())"
   ]
  },
  {
   "cell_type": "markdown",
   "id": "be68cd21",
   "metadata": {},
   "source": [
    "Projects that failed has an average duration of about 34 days and projects that are successful have about 31 days. This suggests that projects that are within a months time are usually more successful. In fact, Kickstarter website states that there is a 60days limit to the campaigns, and they have found that projects lasting any longer than 60 days are rarely successful. They also recommend to set the duration to run for 30 days or less.<br><br>\n",
    "we have to, however, keep in mind that there is a lot of outliers"
   ]
  },
  {
   "cell_type": "code",
   "execution_count": null,
   "id": "4cf4f97b",
   "metadata": {},
   "outputs": [],
   "source": []
  },
  {
   "cell_type": "code",
   "execution_count": 74,
   "id": "0904f4c4",
   "metadata": {},
   "outputs": [
    {
     "data": {
      "image/png": "[encoded data removed]",
      "text/plain": [
       "<Figure size 1000x600 with 1 Axes>"
      ]
     },
     "metadata": {},
     "output_type": "display_data"
    },
    {
     "data": {
      "text/html": [
       "<div>\n",
       "<style scoped>\n",
       "    .dataframe tbody tr th:only-of-type {\n",
       "        vertical-align: middle;\n",
       "    }\n",
       "\n",
       "    .dataframe tbody tr th {\n",
       "        vertical-align: top;\n",
       "    }\n",
       "\n",
       "    .dataframe thead th {\n",
       "        text-align: right;\n",
       "    }\n",
       "</style>\n",
       "<table border=\"1\" class=\"dataframe\">\n",
       "  <thead>\n",
       "    <tr style=\"text-align: right;\">\n",
       "      <th></th>\n",
       "      <th>Duration_Bins</th>\n",
       "      <th>Success_Rate</th>\n",
       "    </tr>\n",
       "  </thead>\n",
       "  <tbody>\n",
       "    <tr>\n",
       "      <th>0</th>\n",
       "      <td>(0, 10]</td>\n",
       "      <td>0.501689</td>\n",
       "    </tr>\n",
       "    <tr>\n",
       "      <th>1</th>\n",
       "      <td>(10, 20]</td>\n",
       "      <td>0.528865</td>\n",
       "    </tr>\n",
       "    <tr>\n",
       "      <th>2</th>\n",
       "      <td>(20, 30]</td>\n",
       "      <td>0.396357</td>\n",
       "    </tr>\n",
       "    <tr>\n",
       "      <th>3</th>\n",
       "      <td>(30, 40]</td>\n",
       "      <td>0.487524</td>\n",
       "    </tr>\n",
       "    <tr>\n",
       "      <th>4</th>\n",
       "      <td>(40, 50]</td>\n",
       "      <td>0.376670</td>\n",
       "    </tr>\n",
       "    <tr>\n",
       "      <th>5</th>\n",
       "      <td>(50, 60]</td>\n",
       "      <td>0.246000</td>\n",
       "    </tr>\n",
       "    <tr>\n",
       "      <th>6</th>\n",
       "      <td>(60, 71]</td>\n",
       "      <td>0.477419</td>\n",
       "    </tr>\n",
       "  </tbody>\n",
       "</table>\n",
       "</div>"
      ],
      "text/plain": [
       "  Duration_Bins  Success_Rate\n",
       "0       (0, 10]      0.501689\n",
       "1      (10, 20]      0.528865\n",
       "2      (20, 30]      0.396357\n",
       "3      (30, 40]      0.487524\n",
       "4      (40, 50]      0.376670\n",
       "5      (50, 60]      0.246000\n",
       "6      (60, 71]      0.477419"
      ]
     },
     "execution_count": 74,
     "metadata": {},
     "output_type": "execute_result"
    }
   ],
   "source": [
    "# Binning the campaign duration into ranges for better analysis\n",
    "duration['Duration_Bins'] = pd.cut(duration['Duration_of_campaign(days)'], bins=[0, 10, 20, 30, 40, 50, 60, duration['Duration_of_campaign(days)'].max()])\n",
    "\n",
    "# Calculating success rates within each bin\n",
    "success_rate_by_duration = duration.groupby('Duration_Bins').apply(lambda x: x[x['state'] == 'successful'].shape[0] / x.shape[0]).reset_index(name='Success_Rate')\n",
    "\n",
    "# Plotting\n",
    "plt.figure(figsize=(10, 6))\n",
    "sb.barplot(data=success_rate_by_duration, x='Duration_Bins', y='Success_Rate', palette='coolwarm')\n",
    "plt.xticks(rotation=45)\n",
    "plt.title('Success Rate by Campaign Duration Bins')\n",
    "plt.xlabel('Campaign Duration (Days)')\n",
    "plt.ylabel('Success Rate')\n",
    "plt.show()\n",
    "\n",
    "success_rate_by_duration\n"
   ]
  },
  {
   "cell_type": "code",
   "execution_count": null,
   "id": "f0edd897",
   "metadata": {},
   "outputs": [],
   "source": []
  },
  {
   "cell_type": "markdown",
   "id": "d5890a75",
   "metadata": {},
   "source": [
    "# Data Analysis 3: Backers(Numberical)"
   ]
  },
  {
   "cell_type": "markdown",
   "id": "2934b586",
   "metadata": {},
   "source": [
    "We cloned the data to focus on hypothesis 3, backers vs state"
   ]
  },
  {
   "cell_type": "code",
   "execution_count": 20,
   "id": "099760e5",
   "metadata": {},
   "outputs": [],
   "source": [
    "backers = startup_data"
   ]
  },
  {
   "cell_type": "code",
   "execution_count": 21,
   "id": "de4e1ab9",
   "metadata": {},
   "outputs": [],
   "source": [
    "#Removing Outliers\n",
    "z_backers = np.abs(stats.zscore(backers['backers']))\n",
    "threshold = 3\n",
    "outliers_backers = backers[z_duration > threshold]\n",
    "backers = backers.drop(outliers_duration.index)"
   ]
  },
  {
   "cell_type": "code",
   "execution_count": 22,
   "id": "62e4d62a",
   "metadata": {},
   "outputs": [
    {
     "data": {
      "text/plain": [
       "<Axes: xlabel='backers', ylabel='state'>"
      ]
     },
     "execution_count": 22,
     "metadata": {},
     "output_type": "execute_result"
    },
    {
     "data": {
      "image/png": "[encoded data removed]",
      "text/plain": [
       "<Figure size 640x480 with 1 Axes>"
      ]
     },
     "metadata": {},
     "output_type": "display_data"
    }
   ],
   "source": [
    "#In the following code, we plottted the box plot for backers vs state\n",
    "sb.boxplot(data=backers, x=\"backers\", y=\"state\", showfliers = False)"
   ]
  },
  {
   "cell_type": "code",
   "execution_count": 77,
   "id": "1ed4950a",
   "metadata": {},
   "outputs": [
    {
     "name": "stdout",
     "output_type": "stream",
     "text": [
      "Mean Number of Backers:\n",
      "state\n",
      "failed         16.489126\n",
      "successful    265.326972\n",
      "Name: backers, dtype: float64\n",
      "\n",
      "Median Number of Backers:\n",
      "state\n",
      "failed         3.0\n",
      "successful    71.0\n",
      "Name: backers, dtype: float64\n"
     ]
    }
   ],
   "source": [
    "print(\"Mean Number of Backers:\")\n",
    "print(backers.groupby('state')['backers'].mean())\n",
    "\n",
    "print(\"\\nMedian Number of Backers:\")\n",
    "print(backers.groupby('state')['backers'].median())\n"
   ]
  },
  {
   "cell_type": "markdown",
   "id": "f3bc64be",
   "metadata": {},
   "source": [
    "The data is showing that the project would be more successful if there are more backers, which makes sense, now lets look at the success to see the correlation"
   ]
  },
  {
   "cell_type": "code",
   "execution_count": 79,
   "id": "97002e9e",
   "metadata": {},
   "outputs": [
    {
     "data": {
      "image/png": "[encoded data removed]",
      "text/plain": [
       "<Figure size 1200x600 with 1 Axes>"
      ]
     },
     "metadata": {},
     "output_type": "display_data"
    }
   ],
   "source": [
    "# Binning the number of backers into ranges for easier analysis\n",
    "backers['Backers_Bins'] = pd.qcut(backers['backers'], q=4, duplicates='drop')  # Adjust 'q' based on distribution\n",
    "\n",
    "# Calculating success rates within each bin\n",
    "success_rate_by_backers = backers.groupby('Backers_Bins')['state'].apply(lambda x: (x == 'successful').mean()).reset_index(name='Success_Rate')\n",
    "\n",
    "# Plotting\n",
    "plt.figure(figsize=(12, 6))\n",
    "sb.barplot(data=success_rate_by_backers, x='Backers_Bins', y='Success_Rate', palette='coolwarm')\n",
    "plt.title('Success Rate by Number of Backers Bins')\n",
    "plt.xlabel('Number of Backers')\n",
    "plt.ylabel('Success Rate')\n",
    "plt.xticks(rotation=45)\n",
    "plt.show()\n"
   ]
  },
  {
   "cell_type": "markdown",
   "id": "94eb63b8",
   "metadata": {},
   "source": [
    "# Data Analysis 4: Pledged Amount(Numberical)"
   ]
  },
  {
   "cell_type": "markdown",
   "id": "9a1f4577",
   "metadata": {},
   "source": [
    "We cloned the data to focus on hypothesis 4, pledge amount vs state"
   ]
  },
  {
   "cell_type": "code",
   "execution_count": 23,
   "id": "d7de04aa",
   "metadata": {},
   "outputs": [],
   "source": [
    "pledge = startup_data"
   ]
  },
  {
   "cell_type": "code",
   "execution_count": 24,
   "id": "f753899a",
   "metadata": {},
   "outputs": [],
   "source": [
    "z_pledge = np.abs(stats.zscore(backers['usd_pledged_real']))\n",
    "threshold = 3\n",
    "outliers_pledge = backers[z_pledge > threshold]\n",
    "pledge = pledge.drop(outliers_duration.index)"
   ]
  },
  {
   "cell_type": "code",
   "execution_count": 25,
   "id": "ea32bbe2",
   "metadata": {},
   "outputs": [
    {
     "data": {
      "text/plain": [
       "<Axes: xlabel='usd_pledged_real', ylabel='state'>"
      ]
     },
     "execution_count": 25,
     "metadata": {},
     "output_type": "execute_result"
    },
    {
     "data": {
      "image/png": "[encoded data removed]",
      "text/plain": [
       "<Figure size 640x480 with 1 Axes>"
      ]
     },
     "metadata": {},
     "output_type": "display_data"
    }
   ],
   "source": [
    "#In the following code, we plottted the box plot for backers vs state\n",
    "sb.boxplot(data=pledge, x=\"usd_pledged_real\", y=\"state\", showfliers = False)"
   ]
  },
  {
   "cell_type": "code",
   "execution_count": 90,
   "id": "ed15907c",
   "metadata": {},
   "outputs": [
    {
     "name": "stdout",
     "output_type": "stream",
     "text": [
      "Mean Number of Backers:\n",
      "state\n",
      "failed         1326.816298\n",
      "successful    22790.375035\n",
      "Name: usd_pledged_real, dtype: float64\n",
      "\n",
      "Median Number of Backers:\n",
      "state\n",
      "failed         100.0\n",
      "successful    5114.0\n",
      "Name: usd_pledged_real, dtype: float64\n"
     ]
    }
   ],
   "source": [
    "print(\"Mean Number of Backers:\")\n",
    "print(pledge.groupby('state')['usd_pledged_real'].mean())\n",
    "\n",
    "print(\"\\nMedian Number of Backers:\")\n",
    "print(pledge.groupby('state')['usd_pledged_real'].median())\n"
   ]
  },
  {
   "cell_type": "markdown",
   "id": "b08e37d4",
   "metadata": {},
   "source": [
    "Data over here is also showing that if there is a higher amount pledge, the project tend to be more successful. "
   ]
  },
  {
   "cell_type": "code",
   "execution_count": 89,
   "id": "df73fdce",
   "metadata": {},
   "outputs": [
    {
     "data": {
      "image/png": "[encoded data removed]",
      "text/plain": [
       "<Figure size 1200x600 with 1 Axes>"
      ]
     },
     "metadata": {},
     "output_type": "display_data"
    }
   ],
   "source": [
    "pledge['Pledged_Bins'] = pd.qcut(pledge['usd_pledged_real'], q=4, duplicates='drop')\n",
    "\n",
    "success_rate_by_pledged = pledge.groupby('Pledged_Bins')['state'].apply(lambda x: (x == 'successful').mean()).reset_index(name='Success_Rate')\n",
    "\n",
    "plt.figure(figsize=(12, 6))\n",
    "sns.barplot(data=success_rate_by_pledged, x='Pledged_Bins', y='Success_Rate', palette='coolwarm')\n",
    "plt.title('Success Rate by Log Pledged Amount Bins')\n",
    "plt.xlabel('Pledged Amount Bins')\n",
    "plt.ylabel('Success Rate')\n",
    "plt.xticks(rotation=45)\n",
    "plt.show()\n"
   ]
  },
  {
   "cell_type": "code",
   "execution_count": null,
   "id": "e01f24a7",
   "metadata": {},
   "outputs": [],
   "source": []
  },
  {
   "cell_type": "markdown",
   "id": "b14a6d49",
   "metadata": {},
   "source": [
    "# Data Analysis 5: Categories(Categorical)"
   ]
  },
  {
   "cell_type": "markdown",
   "id": "fed6028e",
   "metadata": {},
   "source": [
    "We cloned the data to focus on hypothesis 5, category vs state"
   ]
  },
  {
   "cell_type": "code",
   "execution_count": 26,
   "id": "3815ea3e",
   "metadata": {},
   "outputs": [],
   "source": [
    "category = startup_data"
   ]
  },
  {
   "cell_type": "code",
   "execution_count": 27,
   "id": "261c1f2f",
   "metadata": {},
   "outputs": [
    {
     "data": {
      "text/plain": [
       "<seaborn.axisgrid.FacetGrid at 0x1eac596faf0>"
      ]
     },
     "execution_count": 27,
     "metadata": {},
     "output_type": "execute_result"
    },
    {
     "data": {
      "image/png": "[encoded data removed]",
      "text/plain": [
       "<Figure size 621.5x500 with 1 Axes>"
      ]
     },
     "metadata": {},
     "output_type": "display_data"
    }
   ],
   "source": [
    "sb.catplot(data=category, y=\"main_category\", hue=\"state\", kind=\"count\",palette=\"pastel\", edgecolor=\".6\",)"
   ]
  },
  {
   "cell_type": "markdown",
   "id": "2c1bad8d",
   "metadata": {},
   "source": [
    "# Data Analysis 6: Categories(Categorical)"
   ]
  },
  {
   "cell_type": "markdown",
   "id": "8a30ee9c",
   "metadata": {},
   "source": [
    "We cloned the data to focus on hypothesis 6, country vs state"
   ]
  },
  {
   "cell_type": "code",
   "execution_count": 28,
   "id": "fe1ffb84",
   "metadata": {},
   "outputs": [],
   "source": [
    "country = startup_data"
   ]
  },
  {
   "cell_type": "code",
   "execution_count": 29,
   "id": "22a7781c",
   "metadata": {},
   "outputs": [
    {
     "data": {
      "text/plain": [
       "<seaborn.axisgrid.FacetGrid at 0x1eac8f2dc60>"
      ]
     },
     "execution_count": 29,
     "metadata": {},
     "output_type": "execute_result"
    },
    {
     "data": {
      "image/png": "[encoded data removed]",
      "text/plain": [
       "<Figure size 621.5x500 with 1 Axes>"
      ]
     },
     "metadata": {},
     "output_type": "display_data"
    }
   ],
   "source": [
    "sb.catplot(data=country, y=\"country\", hue=\"state\", kind=\"count\",palette=\"pastel\", edgecolor=\".6\",)"
   ]
  },
  {
   "cell_type": "markdown",
   "id": "92ccd0aa",
   "metadata": {},
   "source": [
    "We were able to form some insights from our initial exploratory analysis.\n",
    "1) Successful kickstarters tend to have lower goal amounts\n",
    "2) The 'sweet spot' duration for successful kickstarter is between 20 to 40 days\n",
    "3) Successful kickstarters have more backers\n",
    "4) Successful kickstarters were able to raise more money(duhhh)\n",
    "5) Certain categories are more likely to be sucessful, like Theatre and Music\n",
    "6) Most projects are based in GB, US, CA, AU, IT and DE and most countries seem to have similar rates of success for their projects"
   ]
  },
  {
   "cell_type": "code",
   "execution_count": null,
   "id": "3c39b248",
   "metadata": {},
   "outputs": [],
   "source": []
  }
 ],
 "metadata": {
  "kernelspec": {
   "display_name": "Python 3 (ipykernel)",
   "language": "python",
   "name": "python3"
  },
  "language_info": {
   "codemirror_mode": {
    "name": "ipython",
    "version": 3
   },
   "file_extension": ".py",
   "mimetype": "text/x-python",
   "name": "python",
   "nbconvert_exporter": "python",
   "pygments_lexer": "ipython3",
   "version": "3.10.9"
  }
 },
 "nbformat": 4,
 "nbformat_minor": 5
}
