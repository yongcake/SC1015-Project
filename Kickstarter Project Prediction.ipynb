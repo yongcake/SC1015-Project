{
 "cells": [
  {
   "cell_type": "markdown",
   "id": "f49b7753",
   "metadata": {},
   "source": [
    "# Data Cleaning"
   ]
  },
  {
   "cell_type": "code",
   "execution_count": 1,
   "id": "260db7e5",
   "metadata": {},
   "outputs": [],
   "source": [
    "# Libraries\n",
    "import numpy as np\n",
    "import pandas as pd\n",
    "import seaborn as sb\n",
    "import matplotlib.pyplot as plt\n",
    "from sklearn.preprocessing import LabelEncoder"
   ]
  },
  {
   "cell_type": "code",
   "execution_count": null,
   "id": "e5cc0fdb",
   "metadata": {},
   "outputs": [],
   "source": [
    "#import csv file\n",
    "startup_data = pd.read_csv('ks-projects-201801.csv')\n",
    "startup_data.head()"
   ]
  },
  {
   "cell_type": "markdown",
   "id": "c732298c",
   "metadata": {},
   "source": [
    "print(\"Data type : \", type(startup_data))\n",
    "print(\"Data dims : \", startup_data.shape)"
   ]
  },
  {
   "cell_type": "code",
   "execution_count": null,
   "id": "dbbafd83",
   "metadata": {},
   "outputs": [],
   "source": [
    "startup_data.info()"
   ]
  },
  {
   "cell_type": "code",
   "execution_count": null,
   "id": "bd2f022a",
   "metadata": {},
   "outputs": [],
   "source": [
    "startup_data.drop(columns=['name','ID','category','usd pledged','currency','goal','pledged'], axis = 1, inplace = True)"
   ]
  },
  {
   "cell_type": "code",
   "execution_count": null,
   "id": "177b9657",
   "metadata": {},
   "outputs": [],
   "source": [
    "startup_data = startup_data[startup_data['state'].isin(['failed', 'successful'])]\n",
    "startup_data.sample(10)"
   ]
  },
  {
   "cell_type": "markdown",
   "id": "7a0d3ba8",
   "metadata": {},
   "source": [
    "1. Here, we can see the various types of status of the startups but we are concerned  only with successful and failed startups as we are predicting this category.\n",
    "2. Thus we remove all other categories such as 'canceled', 'live', 'undefined', 'suspended'  and only keep the remaining two.\n",
    "3. We examine the null values and see that columns 'name' and 'usd pledged' have null values but we do not need to correct this as these columns are unnecessary in our problem so we will ultimately drop them.\n",
    "4. We remove all unnecesary columns that are not going to help predict the success of the startup such as 'id', 'name' etc.\n"
   ]
  },
  {
   "cell_type": "code",
   "execution_count": null,
   "id": "9188547b",
   "metadata": {},
   "outputs": [],
   "source": [
    "startup_data = startup_data.assign(state_num = (startup_data['state'] == 'successful').astype(int))\n",
    "startup_data.drop(columns=['state'], axis = 1, inplace = True)\n",
    "startup_data"
   ]
  },
  {
   "cell_type": "code",
   "execution_count": null,
   "id": "a784dc43",
   "metadata": {},
   "outputs": [],
   "source": [
    "\n",
    "country_encoder = LabelEncoder()\n",
    "main_category_encoder = LabelEncoder()\n",
    "\n",
    "startup_data['encoded_country'] = country_encoder.fit_transform(startup_data['country'])\n",
    "startup_data['encoded_main_category'] = main_category_encoder.fit_transform(startup_data['main_category'])\n",
    "\n",
    "startup_data"
   ]
  },
  {
   "cell_type": "code",
   "execution_count": null,
   "id": "c5ca919d",
   "metadata": {},
   "outputs": [],
   "source": [
    "startup_data.deadline = pd.to_datetime(startup_data.deadline)\n",
    "startup_data.launched = pd.to_datetime(startup_data.launched)\n",
    "startup_data"
   ]
  },
  {
   "cell_type": "code",
   "execution_count": null,
   "id": "70e9ba1d",
   "metadata": {},
   "outputs": [],
   "source": [
    "startup_data['Duration_of_campaign(days)'] = (startup_data['deadline'] - startup_data.launched).dt.days \n",
    "\n",
    "startup_data['Deadline(y)']=pd.to_datetime(startup_data.deadline).dt.year \n",
    "startup_data['Launched(y)']=pd.to_datetime(startup_data.launched).dt.year \n",
    "\n",
    "startup_data['Launched(m)']=pd.to_datetime(startup_data.launched).dt.month\n",
    "startup_data['Deadline(m)']=pd.to_datetime(startup_data.deadline).dt.month \n",
    "startup_data.drop(columns=['deadline','launched'], axis = 1, inplace = True)\n",
    "startup_data"
   ]
  },
  {
   "cell_type": "markdown",
   "id": "5c2f0172",
   "metadata": {},
   "source": [
    "1. As 'state' is a categorical variable, we need to convert this into numerical by assigning 'successful' as 1 and 'failed' as 0 in a new column named 'state_num'. We then drop the original state column.\n",
    "2. We then use LabelEncoder function from scikit-learn to encode categorical columns in the DataFrame startup_data. Then, it initializes LabelEncoder objects for each categorical column and fits them to the respective columns. After fitting, it transforms the columns into encoded numerical values. Finally, it adds new columns to the DataFrame (encoded_country and encoded_main_category) to store the encoded data, leaving the original columns (country and main_category) intact.\n",
    "3. Then we convert the deadline and launched columns in the startup_data DataFrame to datetime objects, enabling easier manipulation and analysis of date and time data using to_datetime functions\n",
    "4. We then calculate the duration of the campaign by subtracting the deadline and launched dates for easy manipulations and analysis.\n",
    "5. We also convert the datetime variables into seperate variables of Deadline(y),Launched(y),Launched(m),Deadline(m) which show the respective years and months of the data, and then we drop the original deadline and launched columns.\n",
    "\n",
    "\n",
    "\n",
    "\n"
   ]
  },
  {
   "cell_type": "code",
   "execution_count": null,
   "id": "683a9b9a",
   "metadata": {},
   "outputs": [],
   "source": []
  },
  {
   "cell_type": "code",
   "execution_count": null,
   "id": "aa23c40e",
   "metadata": {},
   "outputs": [],
   "source": []
  },
  {
   "cell_type": "code",
   "execution_count": null,
   "id": "09b93302",
   "metadata": {},
   "outputs": [],
   "source": []
  },
  {
   "cell_type": "code",
   "execution_count": null,
   "id": "1ec067b7",
   "metadata": {},
   "outputs": [],
   "source": []
  },
  {
   "cell_type": "markdown",
   "id": "e83a835f",
   "metadata": {},
   "source": [
    "# Data analysis (Numerical)"
   ]
  },
  {
   "cell_type": "code",
   "execution_count": null,
   "id": "755817da",
   "metadata": {},
   "outputs": [],
   "source": []
  },
  {
   "cell_type": "code",
   "execution_count": null,
   "id": "9cd94ac0",
   "metadata": {},
   "outputs": [],
   "source": []
  },
  {
   "cell_type": "code",
   "execution_count": null,
   "id": "fe9d853a",
   "metadata": {},
   "outputs": [],
   "source": []
  },
  {
   "cell_type": "code",
   "execution_count": null,
   "id": "3f92ea36",
   "metadata": {},
   "outputs": [],
   "source": []
  },
  {
   "cell_type": "code",
   "execution_count": null,
   "id": "2fcbc5e4",
   "metadata": {},
   "outputs": [],
   "source": []
  },
  {
   "cell_type": "code",
   "execution_count": null,
   "id": "f91ee419",
   "metadata": {},
   "outputs": [],
   "source": []
  },
  {
   "cell_type": "code",
   "execution_count": null,
   "id": "6c4bdff6",
   "metadata": {},
   "outputs": [],
   "source": []
  },
  {
   "cell_type": "code",
   "execution_count": null,
   "id": "cc3dc851",
   "metadata": {},
   "outputs": [],
   "source": []
  },
  {
   "cell_type": "code",
   "execution_count": null,
   "id": "f8ec162c",
   "metadata": {},
   "outputs": [],
   "source": []
  },
  {
   "cell_type": "markdown",
   "id": "b14a6d49",
   "metadata": {},
   "source": [
    "# Data analysis (Categorical)"
   ]
  },
  {
   "cell_type": "code",
   "execution_count": null,
   "id": "a30d3030",
   "metadata": {},
   "outputs": [],
   "source": []
  },
  {
   "cell_type": "code",
   "execution_count": null,
   "id": "3815ea3e",
   "metadata": {},
   "outputs": [],
   "source": []
  },
  {
   "cell_type": "code",
   "execution_count": null,
   "id": "e71623a0",
   "metadata": {},
   "outputs": [],
   "source": []
  },
  {
   "cell_type": "code",
   "execution_count": null,
   "id": "261c1f2f",
   "metadata": {},
   "outputs": [],
   "source": []
  },
  {
   "cell_type": "code",
   "execution_count": null,
   "id": "de94da14",
   "metadata": {},
   "outputs": [],
   "source": []
  },
  {
   "cell_type": "code",
   "execution_count": null,
   "id": "90fc0166",
   "metadata": {},
   "outputs": [],
   "source": []
  },
  {
   "cell_type": "code",
   "execution_count": null,
   "id": "fe1ffb84",
   "metadata": {},
   "outputs": [],
   "source": []
  },
  {
   "cell_type": "code",
   "execution_count": null,
   "id": "22a7781c",
   "metadata": {},
   "outputs": [],
   "source": []
  },
  {
   "cell_type": "code",
   "execution_count": null,
   "id": "6654e672",
   "metadata": {},
   "outputs": [],
   "source": []
  }
 ],
 "metadata": {
  "kernelspec": {
   "display_name": "Python 3 (ipykernel)",
   "language": "python",
   "name": "python3"
  },
  "language_info": {
   "codemirror_mode": {
    "name": "ipython",
    "version": 3
   },
   "file_extension": ".py",
   "mimetype": "text/x-python",
   "name": "python",
   "nbconvert_exporter": "python",
   "pygments_lexer": "ipython3",
   "version": "3.10.9"
  }
 },
 "nbformat": 4,
 "nbformat_minor": 5
}
